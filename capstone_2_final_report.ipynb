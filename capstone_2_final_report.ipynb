{
 "cells": [
  {
   "cell_type": "markdown",
   "id": "7dffdd5a-c81b-4a4d-a1ef-c31ab0fe028b",
   "metadata": {},
   "source": [
    "# Introduction"
   ]
  },
  {
   "cell_type": "markdown",
   "id": "91ae6f24-154c-4dda-a905-c06a88c75313",
   "metadata": {},
   "source": [
    "# Libraries"
   ]
  },
  {
   "cell_type": "code",
   "execution_count": 3,
   "id": "2dd8d6ca-82fc-4335-89c4-3e8953008219",
   "metadata": {},
   "outputs": [],
   "source": [
    "import requests\n",
    "import os\n",
    "import pandas as pd\n",
    "pd.options.display.max_columns = None\n",
    "import seaborn as sns\n",
    "sns.set_style('dark')\n",
    "pal = 'crest'\n",
    "import matplotlib.pyplot as plt\n",
    "import numpy as np\n",
    "from scipy import stats\n",
    "import statsmodels.stats.multicomp as mc\n",
    "\n",
    "from sklearn.preprocessing import OrdinalEncoder"
   ]
  },
  {
   "cell_type": "markdown",
   "id": "b000f6d8-4a45-4d73-944e-9d9141d1d4c8",
   "metadata": {},
   "source": [
    "# User Definitions"
   ]
  },
  {
   "cell_type": "code",
   "execution_count": null,
   "id": "737f45f4-9b59-4ccb-b2ec-4241b3982cb7",
   "metadata": {},
   "outputs": [],
   "source": []
  },
  {
   "cell_type": "markdown",
   "id": "1fe4331f-bd88-47a8-9ff9-9a9ab484000f",
   "metadata": {},
   "source": [
    "## OrdinalEncoder Lists"
   ]
  },
  {
   "cell_type": "code",
   "execution_count": 5,
   "id": "fb238b9c-37a6-4031-b986-adbf02816818",
   "metadata": {},
   "outputs": [],
   "source": [
    "edu_order = [\n",
    "    'No Formal quals',\n",
    "    'Lower Than A Level',\n",
    "    'A Level or Equivalent',\n",
    "    'HE Qualification',\n",
    "    'Post Graduate Qualification'\n",
    "]\n",
    "imd_order = [\n",
    "    '0-10%',\n",
    "    '10-20%',\n",
    "    '20-30%',\n",
    "    '30-40%',\n",
    "    '40-50%',\n",
    "    '50-60%',\n",
    "    '60-70%',\n",
    "    '70-80%',\n",
    "    '80-90%',\n",
    "    '90-100%'\n",
    "]\n",
    "age_order = [\n",
    "    '0-35',\n",
    "    '35-55',\n",
    "    '55<='\n",
    "]"
   ]
  },
  {
   "cell_type": "markdown",
   "id": "473a7a41-f116-49d5-b504-162ddccd7062",
   "metadata": {},
   "source": [
    "# Data"
   ]
  },
  {
   "cell_type": "markdown",
   "id": "dd8f0d19-fc22-4fe3-bb2b-e4ffc5b7c713",
   "metadata": {},
   "source": [
    "## Citation\n",
    "Kuzilek, J., Hlosta, M., Herrmannova, D., Zdrahal, Z. and Wolff, A. OU Analyse: Analysing At-Risk Students at The Open University. Learning Analytics Review, no. LAK15-1, March 2015, ISSN: 2057-7494.\n",
    "source: http://archive.ics.uci.edu/ml/datasets/Open+University+Learning+Analytics+dataset\n",
    "\n",
    "Data found: https://www.kaggle.com/datasets/thedevastator/open-university-learning-analytics-dataset?resource=download"
   ]
  },
  {
   "cell_type": "code",
   "execution_count": 7,
   "id": "3aa2b5ac-eb98-407f-a12a-cd46dc3c8656",
   "metadata": {},
   "outputs": [],
   "source": [
    "assess = pd.read_csv('./data/assessments.csv', na_values = '?', low_memory = False)\n",
    "courses = pd.read_csv('./data/courses.csv', na_values = '?', low_memory = False)\n",
    "stassess = pd.read_csv('./data/studentAssessment.csv', na_values = '?', low_memory = False)\n",
    "stinfo = pd.read_csv('./data/studentInfo.csv', na_values = '?', low_memory = False)\n",
    "streg = pd.read_csv('./data/studentRegistration.csv', na_values = '?', low_memory = False)\n",
    "stvle = pd.read_csv('./data/studentVle.csv', na_values = '?', low_memory = False)\n",
    "vle = pd.read_csv('./data/vle.csv', na_values = '?', low_memory = False)"
   ]
  },
  {
   "cell_type": "code",
   "execution_count": 8,
   "id": "28d3d309-e6d9-48fd-8f36-08230efbab98",
   "metadata": {},
   "outputs": [],
   "source": [
    "ls_all_docs = [assess, courses, stassess, stinfo, streg, stvle, vle]\n",
    "assess.name = 'assess'\n",
    "courses.name = 'courses'\n",
    "stassess.name = 'stassess'\n",
    "stinfo.name = 'stinfo'\n",
    "streg.name = 'streg'\n",
    "stvle.name = 'stvle'\n",
    "vle.name = 'vle'"
   ]
  },
  {
   "cell_type": "markdown",
   "id": "dcb2cc79-42b6-4720-9018-6b8c955af6e0",
   "metadata": {},
   "source": [
    "## Features\n",
    "* age_band: Band of the student's age\n",
    "* assessment_type: Type of assessment\n",
    "* code_module: Code name of the module, which serves as the identifier\n",
    "* code_presentation: Code name of the presentation. It consists of the year and B for the presentation starting in February and J for the presentation starting in October\n",
    "* date: Information about the final submission date of the assessment calculated as the number of days since the start of the module-presentation. The starting date of the presentation has number 0 (zero)\n",
    "* date_registration: The date of student's registration on the module presentation, this is the number of days measured relative to the start of the module-presentation (e.g. the negative value -30 means that the student registered to module presentation 30 days before it started)\n",
    "* date_submitted: The date of student submission, measured as the number of days since the start of the module presentation\n",
    "* date_unregistration: Date of student unregistration from the module presentation, this is the number of days measured relative to the start of the module-presentation. Students, who completed the course have this field empty. Students who unregistered have Withdrawal as the value of the final_result column in the studentInfo.csv file\n",
    "* disability: Indicates whether the student has declared a disability\n",
    "* final_result: Student's final result in the module-presentation\n",
    "* gender: The student's gender\n",
    "* highest_education: Highest student education level on entry to the module presentation\n",
    "* id_assessment: Identification number of the assessment\n",
    "* id_site: An identification number\n",
    "* id_student: A unique identification number for the student\n",
    "* imd_band: Specifies the Index of Multiple Deprivation band of the place where the student lived during the module-presentation\n",
    "* is_banked: A status flag indicating that the assessment result has been transferred from a previous presentation\n",
    "* length: Length of the module-presentation in days\n",
    "* num_of_prev_attempts: The number of times the student has attempted this module\n",
    "* region: Identifies the geographic region, where the student lived while taking the module-presentation\n",
    "* score: The student's score in this assessment. The range is from 0 to 100. The score lower than 40 is interpreted as Fail. The marks are in the range from 0 to 100\n",
    "* studied_credits: The total number of credits for the modules the student is currently studying\n",
    "* sum_click: The number of times a student interacts with the material in that day\n",
    "* weight: Weight of the assessment in %. Typically, Exams are treated separately and have the weight 100%; the sum of all other assessments is 100%\n",
    "* week_from: The week from which the material is planned to be used\n",
    "* week_to: Week until which the material is planned to be useday 100iononcsv filetarted)ionnon100%(zero)oberr"
   ]
  },
  {
   "cell_type": "code",
   "execution_count": 9,
   "id": "73930e02-4b64-4e84-8a60-47042e601bb1",
   "metadata": {},
   "outputs": [
    {
     "name": "stdout",
     "output_type": "stream",
     "text": [
      "assess: (206, 6)\n",
      "  code_module code_presentation  id_assessment assessment_type   date  weight\n",
      "0         AAA             2013J           1752             TMA   19.0    10.0\n",
      "1         AAA             2013J           1753             TMA   54.0    20.0\n",
      "2         AAA             2013J           1754             TMA  117.0    20.0\n",
      "3         AAA             2013J           1755             TMA  166.0    20.0\n",
      "4         AAA             2013J           1756             TMA  215.0    30.0 \n",
      "\n",
      "<class 'pandas.core.frame.DataFrame'>\n",
      "RangeIndex: 206 entries, 0 to 205\n",
      "Data columns (total 6 columns):\n",
      " #   Column             Non-Null Count  Dtype  \n",
      "---  ------             --------------  -----  \n",
      " 0   code_module        206 non-null    object \n",
      " 1   code_presentation  206 non-null    object \n",
      " 2   id_assessment      206 non-null    int64  \n",
      " 3   assessment_type    206 non-null    object \n",
      " 4   date               195 non-null    float64\n",
      " 5   weight             206 non-null    float64\n",
      "dtypes: float64(2), int64(1), object(3)\n",
      "memory usage: 9.8+ KB\n",
      "None \n",
      "\n",
      "       id_assessment        date      weight\n",
      "count     206.000000  195.000000  206.000000\n",
      "mean    26473.975728  145.005128   20.873786\n",
      "std     10098.625521   76.001119   30.384224\n",
      "min      1752.000000   12.000000    0.000000\n",
      "25%     15023.250000   71.000000    0.000000\n",
      "50%     25364.500000  152.000000   12.500000\n",
      "75%     34891.750000  222.000000   24.250000\n",
      "max     40088.000000  261.000000  100.000000 \n",
      "\n",
      "code_module           0\n",
      "code_presentation     0\n",
      "id_assessment         0\n",
      "assessment_type       0\n",
      "date                 11\n",
      "weight                0\n",
      "dtype: int64 \n",
      "\n",
      "------------------------------------------- \n",
      "\n",
      "courses: (22, 3)\n",
      "  code_module code_presentation  module_presentation_length\n",
      "0         AAA             2013J                         268\n",
      "1         AAA             2014J                         269\n",
      "2         BBB             2013J                         268\n",
      "3         BBB             2014J                         262\n",
      "4         BBB             2013B                         240 \n",
      "\n",
      "<class 'pandas.core.frame.DataFrame'>\n",
      "RangeIndex: 22 entries, 0 to 21\n",
      "Data columns (total 3 columns):\n",
      " #   Column                      Non-Null Count  Dtype \n",
      "---  ------                      --------------  ----- \n",
      " 0   code_module                 22 non-null     object\n",
      " 1   code_presentation           22 non-null     object\n",
      " 2   module_presentation_length  22 non-null     int64 \n",
      "dtypes: int64(1), object(2)\n",
      "memory usage: 660.0+ bytes\n",
      "None \n",
      "\n",
      "       module_presentation_length\n",
      "count                   22.000000\n",
      "mean                   255.545455\n",
      "std                     13.654677\n",
      "min                    234.000000\n",
      "25%                    241.000000\n",
      "50%                    261.500000\n",
      "75%                    268.000000\n",
      "max                    269.000000 \n",
      "\n",
      "code_module                   0\n",
      "code_presentation             0\n",
      "module_presentation_length    0\n",
      "dtype: int64 \n",
      "\n",
      "------------------------------------------- \n",
      "\n",
      "stassess: (173912, 5)\n",
      "   id_assessment  id_student  date_submitted  is_banked  score\n",
      "0           1752       11391              18          0   78.0\n",
      "1           1752       28400              22          0   70.0\n",
      "2           1752       31604              17          0   72.0\n",
      "3           1752       32885              26          0   69.0\n",
      "4           1752       38053              19          0   79.0 \n",
      "\n",
      "<class 'pandas.core.frame.DataFrame'>\n",
      "RangeIndex: 173912 entries, 0 to 173911\n",
      "Data columns (total 5 columns):\n",
      " #   Column          Non-Null Count   Dtype  \n",
      "---  ------          --------------   -----  \n",
      " 0   id_assessment   173912 non-null  int64  \n",
      " 1   id_student      173912 non-null  int64  \n",
      " 2   date_submitted  173912 non-null  int64  \n",
      " 3   is_banked       173912 non-null  int64  \n",
      " 4   score           173739 non-null  float64\n",
      "dtypes: float64(1), int64(4)\n",
      "memory usage: 6.6 MB\n",
      "None \n",
      "\n",
      "       id_assessment    id_student  date_submitted      is_banked  \\\n",
      "count  173912.000000  1.739120e+05   173912.000000  173912.000000   \n",
      "mean    26553.803556  7.051507e+05      116.032942       0.010977   \n",
      "std      8829.784254  5.523952e+05       71.484148       0.104194   \n",
      "min      1752.000000  6.516000e+03      -11.000000       0.000000   \n",
      "25%     15022.000000  5.044290e+05       51.000000       0.000000   \n",
      "50%     25359.000000  5.852080e+05      116.000000       0.000000   \n",
      "75%     34883.000000  6.344980e+05      173.000000       0.000000   \n",
      "max     37443.000000  2.698588e+06      608.000000       1.000000   \n",
      "\n",
      "               score  \n",
      "count  173739.000000  \n",
      "mean       75.799573  \n",
      "std        18.798107  \n",
      "min         0.000000  \n",
      "25%        65.000000  \n",
      "50%        80.000000  \n",
      "75%        90.000000  \n",
      "max       100.000000   \n",
      "\n",
      "id_assessment       0\n",
      "id_student          0\n",
      "date_submitted      0\n",
      "is_banked           0\n",
      "score             173\n",
      "dtype: int64 \n",
      "\n",
      "------------------------------------------- \n",
      "\n",
      "stinfo: (32593, 12)\n",
      "  code_module code_presentation  id_student gender                region  \\\n",
      "0         AAA             2013J       11391      M   East Anglian Region   \n",
      "1         AAA             2013J       28400      F              Scotland   \n",
      "2         AAA             2013J       30268      F  North Western Region   \n",
      "3         AAA             2013J       31604      F     South East Region   \n",
      "4         AAA             2013J       32885      F  West Midlands Region   \n",
      "\n",
      "       highest_education imd_band age_band  num_of_prev_attempts  \\\n",
      "0       HE Qualification  90-100%     55<=                     0   \n",
      "1       HE Qualification   20-30%    35-55                     0   \n",
      "2  A Level or Equivalent   30-40%    35-55                     0   \n",
      "3  A Level or Equivalent   50-60%    35-55                     0   \n",
      "4     Lower Than A Level   50-60%     0-35                     0   \n",
      "\n",
      "   studied_credits disability final_result  \n",
      "0              240          N         Pass  \n",
      "1               60          N         Pass  \n",
      "2               60          Y    Withdrawn  \n",
      "3               60          N         Pass  \n",
      "4               60          N         Pass   \n",
      "\n",
      "<class 'pandas.core.frame.DataFrame'>\n",
      "RangeIndex: 32593 entries, 0 to 32592\n",
      "Data columns (total 12 columns):\n",
      " #   Column                Non-Null Count  Dtype \n",
      "---  ------                --------------  ----- \n",
      " 0   code_module           32593 non-null  object\n",
      " 1   code_presentation     32593 non-null  object\n",
      " 2   id_student            32593 non-null  int64 \n",
      " 3   gender                32593 non-null  object\n",
      " 4   region                32593 non-null  object\n",
      " 5   highest_education     32593 non-null  object\n",
      " 6   imd_band              31482 non-null  object\n",
      " 7   age_band              32593 non-null  object\n",
      " 8   num_of_prev_attempts  32593 non-null  int64 \n",
      " 9   studied_credits       32593 non-null  int64 \n",
      " 10  disability            32593 non-null  object\n",
      " 11  final_result          32593 non-null  object\n",
      "dtypes: int64(3), object(9)\n",
      "memory usage: 3.0+ MB\n",
      "None \n",
      "\n",
      "         id_student  num_of_prev_attempts  studied_credits\n",
      "count  3.259300e+04          32593.000000     32593.000000\n",
      "mean   7.066877e+05              0.163225        79.758691\n",
      "std    5.491673e+05              0.479758        41.071900\n",
      "min    3.733000e+03              0.000000        30.000000\n",
      "25%    5.085730e+05              0.000000        60.000000\n",
      "50%    5.903100e+05              0.000000        60.000000\n",
      "75%    6.444530e+05              0.000000       120.000000\n",
      "max    2.716795e+06              6.000000       655.000000 \n",
      "\n",
      "code_module                0\n",
      "code_presentation          0\n",
      "id_student                 0\n",
      "gender                     0\n",
      "region                     0\n",
      "highest_education          0\n",
      "imd_band                1111\n",
      "age_band                   0\n",
      "num_of_prev_attempts       0\n",
      "studied_credits            0\n",
      "disability                 0\n",
      "final_result               0\n",
      "dtype: int64 \n",
      "\n",
      "------------------------------------------- \n",
      "\n",
      "streg: (32593, 5)\n",
      "  code_module code_presentation  id_student  date_registration  \\\n",
      "0         AAA             2013J       11391             -159.0   \n",
      "1         AAA             2013J       28400              -53.0   \n",
      "2         AAA             2013J       30268              -92.0   \n",
      "3         AAA             2013J       31604              -52.0   \n",
      "4         AAA             2013J       32885             -176.0   \n",
      "\n",
      "   date_unregistration  \n",
      "0                  NaN  \n",
      "1                  NaN  \n",
      "2                 12.0  \n",
      "3                  NaN  \n",
      "4                  NaN   \n",
      "\n",
      "<class 'pandas.core.frame.DataFrame'>\n",
      "RangeIndex: 32593 entries, 0 to 32592\n",
      "Data columns (total 5 columns):\n",
      " #   Column               Non-Null Count  Dtype  \n",
      "---  ------               --------------  -----  \n",
      " 0   code_module          32593 non-null  object \n",
      " 1   code_presentation    32593 non-null  object \n",
      " 2   id_student           32593 non-null  int64  \n",
      " 3   date_registration    32548 non-null  float64\n",
      " 4   date_unregistration  10072 non-null  float64\n",
      "dtypes: float64(2), int64(1), object(2)\n",
      "memory usage: 1.2+ MB\n",
      "None \n",
      "\n",
      "         id_student  date_registration  date_unregistration\n",
      "count  3.259300e+04       32548.000000         10072.000000\n",
      "mean   7.066877e+05         -69.411300            49.757645\n",
      "std    5.491673e+05          49.260522            82.460890\n",
      "min    3.733000e+03        -322.000000          -365.000000\n",
      "25%    5.085730e+05        -100.000000            -2.000000\n",
      "50%    5.903100e+05         -57.000000            27.000000\n",
      "75%    6.444530e+05         -29.000000           109.000000\n",
      "max    2.716795e+06         167.000000           444.000000 \n",
      "\n",
      "code_module                0\n",
      "code_presentation          0\n",
      "id_student                 0\n",
      "date_registration         45\n",
      "date_unregistration    22521\n",
      "dtype: int64 \n",
      "\n",
      "------------------------------------------- \n",
      "\n",
      "stvle: (10655280, 6)\n",
      "  code_module code_presentation  id_student  id_site  date  sum_click\n",
      "0         AAA             2013J       28400   546652   -10          4\n",
      "1         AAA             2013J       28400   546652   -10          1\n",
      "2         AAA             2013J       28400   546652   -10          1\n",
      "3         AAA             2013J       28400   546614   -10         11\n",
      "4         AAA             2013J       28400   546714   -10          1 \n",
      "\n",
      "<class 'pandas.core.frame.DataFrame'>\n",
      "RangeIndex: 10655280 entries, 0 to 10655279\n",
      "Data columns (total 6 columns):\n",
      " #   Column             Dtype \n",
      "---  ------             ----- \n",
      " 0   code_module        object\n",
      " 1   code_presentation  object\n",
      " 2   id_student         int64 \n",
      " 3   id_site            int64 \n",
      " 4   date               int64 \n",
      " 5   sum_click          int64 \n",
      "dtypes: int64(4), object(2)\n",
      "memory usage: 487.8+ MB\n",
      "None \n",
      "\n",
      "         id_student       id_site          date     sum_click\n",
      "count  1.065528e+07  1.065528e+07  1.065528e+07  1.065528e+07\n",
      "mean   7.333336e+05  7.383234e+05  9.517400e+01  3.716946e+00\n",
      "std    5.827060e+05  1.312196e+05  7.607130e+01  8.849047e+00\n",
      "min    6.516000e+03  5.267210e+05 -2.500000e+01  1.000000e+00\n",
      "25%    5.077430e+05  6.735190e+05  2.500000e+01  1.000000e+00\n",
      "50%    5.882360e+05  7.300690e+05  8.600000e+01  2.000000e+00\n",
      "75%    6.464840e+05  8.770300e+05  1.560000e+02  3.000000e+00\n",
      "max    2.698588e+06  1.049562e+06  2.690000e+02  6.977000e+03 \n",
      "\n",
      "code_module          0\n",
      "code_presentation    0\n",
      "id_student           0\n",
      "id_site              0\n",
      "date                 0\n",
      "sum_click            0\n",
      "dtype: int64 \n",
      "\n",
      "------------------------------------------- \n",
      "\n",
      "vle: (6364, 6)\n",
      "   id_site code_module code_presentation activity_type  week_from  week_to\n",
      "0   546943         AAA             2013J      resource        NaN      NaN\n",
      "1   546712         AAA             2013J     oucontent        NaN      NaN\n",
      "2   546998         AAA             2013J      resource        NaN      NaN\n",
      "3   546888         AAA             2013J           url        NaN      NaN\n",
      "4   547035         AAA             2013J      resource        NaN      NaN \n",
      "\n",
      "<class 'pandas.core.frame.DataFrame'>\n",
      "RangeIndex: 6364 entries, 0 to 6363\n",
      "Data columns (total 6 columns):\n",
      " #   Column             Non-Null Count  Dtype  \n",
      "---  ------             --------------  -----  \n",
      " 0   id_site            6364 non-null   int64  \n",
      " 1   code_module        6364 non-null   object \n",
      " 2   code_presentation  6364 non-null   object \n",
      " 3   activity_type      6364 non-null   object \n",
      " 4   week_from          1121 non-null   float64\n",
      " 5   week_to            1121 non-null   float64\n",
      "dtypes: float64(2), int64(1), object(3)\n",
      "memory usage: 298.4+ KB\n",
      "None \n",
      "\n",
      "            id_site    week_from      week_to\n",
      "count  6.364000e+03  1121.000000  1121.000000\n",
      "mean   7.260991e+05    15.204282    15.214987\n",
      "std    1.283151e+05     8.792865     8.779806\n",
      "min    5.267210e+05     0.000000     0.000000\n",
      "25%    6.615928e+05     8.000000     8.000000\n",
      "50%    7.300965e+05    15.000000    15.000000\n",
      "75%    8.140162e+05    22.000000    22.000000\n",
      "max    1.077905e+06    29.000000    29.000000 \n",
      "\n",
      "id_site                 0\n",
      "code_module             0\n",
      "code_presentation       0\n",
      "activity_type           0\n",
      "week_from            5243\n",
      "week_to              5243\n",
      "dtype: int64 \n",
      "\n",
      "------------------------------------------- \n",
      "\n"
     ]
    }
   ],
   "source": [
    "for doc in ls_all_docs:\n",
    "    print(f'{doc.name}: {doc.shape}')\n",
    "    print(doc.head(), '\\n')\n",
    "    print(doc.info(), '\\n')\n",
    "    print(doc.describe(), '\\n')\n",
    "    print(doc.isna().sum(), '\\n')\n",
    "    print('------------------------------------------- \\n')"
   ]
  },
  {
   "cell_type": "markdown",
   "id": "6d750a3d-2915-4486-8b67-bda6280f64c2",
   "metadata": {},
   "source": [
    "# Data Pre-Cleaning"
   ]
  },
  {
   "cell_type": "code",
   "execution_count": 11,
   "id": "8d58626d-9c0c-4c29-8fe8-e90f62204f94",
   "metadata": {},
   "outputs": [],
   "source": [
    "assess2 = assess.copy()\n",
    "assess2['date'] = assess2['date'].fillna(assess2['date'].max())"
   ]
  },
  {
   "cell_type": "code",
   "execution_count": 12,
   "id": "304fc238-12a0-4945-98b0-039ad52f0c99",
   "metadata": {},
   "outputs": [],
   "source": [
    "stassess2 = stassess.dropna()"
   ]
  },
  {
   "cell_type": "code",
   "execution_count": 13,
   "id": "d8241bc7-6453-437b-8199-56530aa26c03",
   "metadata": {},
   "outputs": [],
   "source": [
    "stinfo2 = stinfo.copy()\n",
    "stinfo2.loc[(stinfo2['imd_band'] == '10-20'), 'imd_band'] = stinfo2['imd_band'] + '%'\n",
    "most_common = stinfo2['imd_band'].mode()[0]\n",
    "stinfo3 = stinfo2.copy()\n",
    "stinfo3['imd_band'].fillna(value = most_common, inplace = True)"
   ]
  },
  {
   "cell_type": "code",
   "execution_count": 14,
   "id": "46d34cac-eea2-4645-bb15-cf492c63c183",
   "metadata": {},
   "outputs": [],
   "source": [
    "streg2 = streg.drop(columns = 'date_unregistration')\n",
    "streg3 = streg2.dropna()"
   ]
  },
  {
   "cell_type": "code",
   "execution_count": 15,
   "id": "989fc804-0d10-410b-a1f9-4dd166dcb0a1",
   "metadata": {},
   "outputs": [],
   "source": [
    "vle2 = vle.drop(columns = ['week_from', 'week_to'])"
   ]
  },
  {
   "cell_type": "markdown",
   "id": "694d50da-b589-4e7f-a92c-5fe1f4cebe72",
   "metadata": {},
   "source": [
    "# Merging"
   ]
  },
  {
   "cell_type": "code",
   "execution_count": 17,
   "id": "63a0880f-3cc4-4e42-878d-2ef512404150",
   "metadata": {},
   "outputs": [],
   "source": [
    "as_co = assess2.merge(courses, on = ['code_module', 'code_presentation'])\n",
    "sta_ac = stassess2.merge(as_co, on = 'id_assessment')\n",
    "in_re = stinfo3.merge(streg3, on = ['code_module', 'code_presentation', 'id_student'])\n",
    "sv_vl = stvle.merge(vle2, on = ['id_site', 'code_module', 'code_presentation'])\n",
    "sacri = sta_ac.merge(in_re, on = ['code_module', 'code_presentation', 'id_student'])\n",
    "df1 = sv_vl.merge(sacri, on = ['code_module', 'code_presentation', 'date', 'id_student'])"
   ]
  },
  {
   "cell_type": "markdown",
   "id": "c4c8e791-c438-4c50-b098-6b8f9743278a",
   "metadata": {},
   "source": [
    "# Cleaning"
   ]
  },
  {
   "cell_type": "code",
   "execution_count": 19,
   "id": "4baad3c8-fe6b-4a12-89a1-5e9ddfb526e6",
   "metadata": {},
   "outputs": [],
   "source": [
    "col_order = ['id_student','gender', 'disability', 'age_band', \n",
    "             'region', 'imd_band', 'highest_education', 'id_site', \n",
    "             'code_module', 'code_presentation', 'id_assessment', \n",
    "             'date_registration', 'num_of_prev_attempts', \n",
    "             'studied_credits', 'date_submitted', 'score',\n",
    "             'assessment_type', 'module_presentation_length', \n",
    "             'weight', 'is_banked',  'activity_type', 'date',\n",
    "             'sum_click','final_result']\n",
    "df2 = df1[col_order]"
   ]
  },
  {
   "cell_type": "code",
   "execution_count": 20,
   "id": "25d233f0-ebd3-4b47-acdc-a3701c347407",
   "metadata": {},
   "outputs": [],
   "source": [
    "gender = {'M': 0, 'F': 1}\n",
    "disability = {'N': 0, 'Y': 1}\n",
    "df3 = df2.copy()\n",
    "df3['gender'].replace(gender, inplace = True)\n",
    "df3['disability'].replace(disability, inplace = True)"
   ]
  },
  {
   "cell_type": "code",
   "execution_count": 21,
   "id": "5df9260d-ce99-409c-9959-d63af3b3c8bd",
   "metadata": {},
   "outputs": [],
   "source": [
    "df4 = df3.drop_duplicates().reset_index(drop = True)"
   ]
  },
  {
   "cell_type": "code",
   "execution_count": 22,
   "id": "1402677d-97b1-4b52-b0af-651131b5ad1d",
   "metadata": {},
   "outputs": [],
   "source": [
    "numeric_names = ['studied_credits', 'weight', 'sum_click', 'date_registration']\n",
    "df5 = df4.copy()\n",
    "for col in numeric_names:\n",
    "    lower = df5[col].quantile(0.025)\n",
    "    upper = df5[col].quantile(0.975)\n",
    "    df5 = df5[(df5[col] >= lower) & (df5[col] <= upper)]"
   ]
  },
  {
   "cell_type": "markdown",
   "id": "efb1044c-22c7-486b-8318-694f549ccdfc",
   "metadata": {},
   "source": [
    "While 'date' is a duration length relative to the start of the module, it only serves as a marker for each day of interaction with each activity the students interacted with per assessment. For this reason, 'date' will be aggregated as a count of the number of days interacting with the material. This may quantify the level interaction with each activity type.\n",
    "\n",
    "Similarly, 'sum_click' is the number of clicks per recorded day. Since the reference date will be removed by the aggregation, 'sum_click' will be aggregated to the total number of clicks per activity to retain the nature of the feature."
   ]
  },
  {
   "cell_type": "code",
   "execution_count": 24,
   "id": "9242d23f-0e84-4f48-87a8-8685db87f57a",
   "metadata": {},
   "outputs": [],
   "source": [
    "new_click_cols = df5.groupby(['id_assessment', 'id_student', 'activity_type']).agg(\n",
    "    days_active = ('date', 'count'),\n",
    "    total_clicks = ('sum_click', 'sum')\n",
    ")\n",
    "new_clicks = new_click_cols.reset_index()\n",
    "df6 = df5.merge(new_clicks, on = ['id_assessment', 'id_student', 'activity_type'])"
   ]
  },
  {
   "cell_type": "markdown",
   "id": "cfdbcca1-4edb-4b04-a468-63507c616f2b",
   "metadata": {},
   "source": [
    "The 'date_submitted' column is a numeric feature that indicates the date the assessment was submitted since the start of the module. Unlike 'date' which served as a reference marker for interactions, this date can be used as more of a duration than marker. Changing the name is more for the user experience to avoid future confusion."
   ]
  },
  {
   "cell_type": "code",
   "execution_count": 26,
   "id": "f659daa1-eae5-4dc9-9857-17c6d9db38a8",
   "metadata": {},
   "outputs": [],
   "source": [
    "df7 = df6.rename(columns = {'date_submitted': 'assessment_duration'})"
   ]
  },
  {
   "cell_type": "markdown",
   "id": "1728e8ae-d49c-4454-abae-ef659896e4d1",
   "metadata": {},
   "source": [
    "* Since 'date' and 'sum_click' both have already been aggregated earlier in df6, these two columns will be dropped.\n",
    "* Additionally, 'is_banked' is more of an administrative feature that is neither a direct identifier of the student nor is it the direct result of the students' actions. Analyzing whether or not an assessment of the student's will reduce the focus in the model away from the more likely predictors of student success for this program.\n",
    "* Lastly, 'weight', 'code_module', 'code_presentation', and 'id_site' are all characteristics of 'id_assessment'. These characteristic features will be dropped since they will still have representation through the 'id_assessment'.\n",
    "* Although 'module_presentation_length' is a numeric feature, it will be removed from consideration for similar reasons as 'weight'; also duration per assessment is already being considered in 'assessment_duration'."
   ]
  },
  {
   "cell_type": "code",
   "execution_count": 28,
   "id": "7c031f33-be43-432a-8139-d0135669ded8",
   "metadata": {},
   "outputs": [],
   "source": [
    "df8 = df7.drop(columns = [\n",
    "    'date', 'sum_click', 'is_banked',\n",
    "    'weight', 'module_presentation_length',\n",
    "    'code_module', 'code_presentation',\n",
    "    'id_site', 'assessment_type'\n",
    "])"
   ]
  },
  {
   "cell_type": "code",
   "execution_count": 29,
   "id": "d9a7f1d3-1cd7-48df-a284-88e470074557",
   "metadata": {},
   "outputs": [],
   "source": [
    "assess_col = df8.groupby(['id_student']).agg(\n",
    "    mean_score = ('score', 'mean'),\n",
    "    mean_assessment_length = ('assessment_duration', 'mean'),\n",
    "    max_assessment_length = ('assessment_duration', 'max')\n",
    ")\n",
    "assess_col.reset_index(inplace = True)\n",
    "\n",
    "act_col = df8.groupby(['id_student', 'activity_type']).agg(\n",
    "    mean_active = ('days_active', 'mean'),\n",
    "    total_active = ('days_active', 'sum'),\n",
    "    mean_clicks = ('total_clicks', 'mean'),\n",
    "    clicks = ('total_clicks', 'sum')\n",
    ")\n",
    "act_col.reset_index(inplace = True)\n",
    "\n",
    "df9 = df8.merge(assess_col, on = 'id_student') \\\n",
    "    .merge(act_col, on = ['id_student', 'activity_type'])"
   ]
  },
  {
   "cell_type": "code",
   "execution_count": 30,
   "id": "93e7e0fe-e65a-46c2-b18d-7ec4cb23bd7e",
   "metadata": {},
   "outputs": [],
   "source": [
    "df10 = df9.drop(columns = ['id_assessment', 'days_active', 'total_clicks', 'score', 'assessment_duration'])"
   ]
  },
  {
   "cell_type": "code",
   "execution_count": 35,
   "id": "c1853391-8a4c-404f-b6b4-52b29448cfc9",
   "metadata": {},
   "outputs": [],
   "source": [
    "df11 = df10.drop_duplicates()"
   ]
  },
  {
   "cell_type": "markdown",
   "id": "b5e178f0-3e74-4e4e-9b41-f8c4f5463461",
   "metadata": {},
   "source": [
    "# EDA\n",
    "\n",
    "Exploratory questions:\n",
    "* How does average score per assignment differ between the final results?\n",
    "* How does the material interaction (average active time and assessment length) for each assignment differ between the final results?\n",
    "* Is there a difference between activity types that determine the final results?\n",
    "* Does education interact with students' final results?"
   ]
  },
  {
   "cell_type": "code",
   "execution_count": 39,
   "id": "00d2d46c-a6d5-4967-979b-17ba51d12d57",
   "metadata": {},
   "outputs": [
    {
     "name": "stdout",
     "output_type": "stream",
     "text": [
      "(88846, 19)\n",
      "    id_student  gender  disability age_band             region imd_band  \\\n",
      "0      2412002       0           0    35-55  South West Region   50-60%   \n",
      "3      2412002       0           0    35-55  South West Region   50-60%   \n",
      "6      2412002       0           0    35-55  South West Region   50-60%   \n",
      "9      2412002       0           0    35-55  South West Region   50-60%   \n",
      "14     2412002       0           0    35-55  South West Region   50-60%   \n",
      "\n",
      "     highest_education  date_registration  num_of_prev_attempts  \\\n",
      "0   Lower Than A Level              -38.0                     0   \n",
      "3   Lower Than A Level              -38.0                     0   \n",
      "6   Lower Than A Level              -38.0                     0   \n",
      "9   Lower Than A Level              -38.0                     0   \n",
      "14  Lower Than A Level              -38.0                     0   \n",
      "\n",
      "    studied_credits activity_type final_result  mean_score  \\\n",
      "0                90       forumng  Distinction      85.125   \n",
      "3                90      homepage  Distinction      85.125   \n",
      "6                90       subpage  Distinction      85.125   \n",
      "9                90     oucontent  Distinction      85.125   \n",
      "14               90           url  Distinction      85.125   \n",
      "\n",
      "    mean_assessment_length  max_assessment_length  mean_active  total_active  \\\n",
      "0                  41.8125                    171          3.0             9   \n",
      "3                  41.8125                    171          1.0             3   \n",
      "6                  41.8125                    171          3.0             9   \n",
      "9                  41.8125                    171          3.4            17   \n",
      "14                 41.8125                    171          2.0             4   \n",
      "\n",
      "    mean_clicks  clicks  \n",
      "0     10.000000      30  \n",
      "3      5.333333      16  \n",
      "6      6.000000      18  \n",
      "9     17.800000      89  \n",
      "14     3.000000       6  \n",
      "<class 'pandas.core.frame.DataFrame'>\n",
      "Index: 88846 entries, 0 to 498620\n",
      "Data columns (total 19 columns):\n",
      " #   Column                  Non-Null Count  Dtype  \n",
      "---  ------                  --------------  -----  \n",
      " 0   id_student              88846 non-null  int64  \n",
      " 1   gender                  88846 non-null  int64  \n",
      " 2   disability              88846 non-null  int64  \n",
      " 3   age_band                88846 non-null  object \n",
      " 4   region                  88846 non-null  object \n",
      " 5   imd_band                88846 non-null  object \n",
      " 6   highest_education       88846 non-null  object \n",
      " 7   date_registration       88846 non-null  float64\n",
      " 8   num_of_prev_attempts    88846 non-null  int64  \n",
      " 9   studied_credits         88846 non-null  int64  \n",
      " 10  activity_type           88846 non-null  object \n",
      " 11  final_result            88846 non-null  object \n",
      " 12  mean_score              88846 non-null  float64\n",
      " 13  mean_assessment_length  88846 non-null  float64\n",
      " 14  max_assessment_length   88846 non-null  int64  \n",
      " 15  mean_active             88846 non-null  float64\n",
      " 16  total_active            88846 non-null  int64  \n",
      " 17  mean_clicks             88846 non-null  float64\n",
      " 18  clicks                  88846 non-null  int64  \n",
      "dtypes: float64(5), int64(8), object(6)\n",
      "memory usage: 13.6+ MB\n",
      "None\n",
      "         id_student        gender    disability  date_registration  \\\n",
      "count  8.884600e+04  88846.000000  88846.000000       88846.000000   \n",
      "mean   7.139189e+05      0.383675      0.086138         -64.480134   \n",
      "std    5.687007e+05      0.486283      0.280569          41.388444   \n",
      "min    6.516000e+03      0.000000      0.000000        -176.000000   \n",
      "25%    5.005070e+05      0.000000      0.000000         -93.000000   \n",
      "50%    5.850330e+05      0.000000      0.000000         -53.000000   \n",
      "75%    6.348240e+05      1.000000      0.000000         -29.000000   \n",
      "max    2.698535e+06      1.000000      1.000000         -10.000000   \n",
      "\n",
      "       num_of_prev_attempts  studied_credits    mean_score  \\\n",
      "count          88846.000000     88846.000000  88846.000000   \n",
      "mean               0.140366        76.580656     74.131123   \n",
      "std                0.439336        32.527489     16.180343   \n",
      "min                0.000000        30.000000      0.000000   \n",
      "25%                0.000000        60.000000     65.521127   \n",
      "50%                0.000000        60.000000     77.142857   \n",
      "75%                0.000000        90.000000     85.956522   \n",
      "max                6.000000       180.000000    100.000000   \n",
      "\n",
      "       mean_assessment_length  max_assessment_length   mean_active  \\\n",
      "count            88846.000000           88846.000000  88846.000000   \n",
      "mean                95.782227             155.098586      2.053617   \n",
      "std                 46.146705              65.220676      1.796130   \n",
      "min                 -8.000000              -8.000000      1.000000   \n",
      "25%                 61.739130             116.000000      1.000000   \n",
      "50%                 95.632863             168.000000      1.000000   \n",
      "75%                124.264151             209.000000      2.500000   \n",
      "max                240.901408             243.000000     64.665254   \n",
      "\n",
      "       total_active   mean_clicks        clicks  \n",
      "count  88846.000000  88846.000000  88846.000000  \n",
      "mean      25.429350      6.716920     92.573926  \n",
      "std      174.436476      9.381155    618.774389  \n",
      "min        1.000000      1.000000      1.000000  \n",
      "25%        2.000000      2.000000      4.000000  \n",
      "50%        5.000000      3.500000     12.000000  \n",
      "75%       14.000000      7.700000     44.000000  \n",
      "max    30522.000000    260.601124  46387.000000  \n"
     ]
    }
   ],
   "source": [
    "print(df11.shape)\n",
    "print(df11.head())\n",
    "print(df11.info())\n",
    "print(df11.describe())"
   ]
  },
  {
   "cell_type": "markdown",
   "id": "4f378ee8-5590-4d32-ab7d-0de09fcd0788",
   "metadata": {},
   "source": [
    "## Score\n",
    "\n",
    "One of the most important predictors that would dictate a student's final result is how well they scored on average with their assessments. The score distributions for each of the four results are shown below."
   ]
  },
  {
   "cell_type": "code",
   "execution_count": 41,
   "id": "c4779206-f27c-426e-8b39-c17571ec2b15",
   "metadata": {},
   "outputs": [
    {
     "name": "stderr",
     "output_type": "stream",
     "text": [
      "C:\\Users\\jacob\\AppData\\Local\\Temp\\ipykernel_13936\\2127677517.py:2: UserWarning: Ignoring `palette` because no `hue` variable has been assigned.\n",
      "  sns.histplot(data = df11[df11['final_result'] == 'Distinction'], x = 'mean_score', palette = pal, ax = ax[0, 0]).set_title('Distinction')\n",
      "C:\\Users\\jacob\\anaconda3\\Lib\\site-packages\\seaborn\\_oldcore.py:1119: FutureWarning: use_inf_as_na option is deprecated and will be removed in a future version. Convert inf values to NaN before operating instead.\n",
      "  with pd.option_context('mode.use_inf_as_na', True):\n",
      "C:\\Users\\jacob\\AppData\\Local\\Temp\\ipykernel_13936\\2127677517.py:3: UserWarning: Ignoring `palette` because no `hue` variable has been assigned.\n",
      "  sns.histplot(data = df11[df11['final_result'] == 'Pass'], x = 'mean_score', palette = pal, ax = ax[0, 1]).set_title('Pass')\n",
      "C:\\Users\\jacob\\anaconda3\\Lib\\site-packages\\seaborn\\_oldcore.py:1119: FutureWarning: use_inf_as_na option is deprecated and will be removed in a future version. Convert inf values to NaN before operating instead.\n",
      "  with pd.option_context('mode.use_inf_as_na', True):\n",
      "C:\\Users\\jacob\\AppData\\Local\\Temp\\ipykernel_13936\\2127677517.py:4: UserWarning: Ignoring `palette` because no `hue` variable has been assigned.\n",
      "  sns.histplot(data = df11[df11['final_result'] == 'Fail'], x = 'mean_score', palette = pal, ax = ax[1, 0]).set_title('Fail')\n",
      "C:\\Users\\jacob\\anaconda3\\Lib\\site-packages\\seaborn\\_oldcore.py:1119: FutureWarning: use_inf_as_na option is deprecated and will be removed in a future version. Convert inf values to NaN before operating instead.\n",
      "  with pd.option_context('mode.use_inf_as_na', True):\n",
      "C:\\Users\\jacob\\AppData\\Local\\Temp\\ipykernel_13936\\2127677517.py:5: UserWarning: Ignoring `palette` because no `hue` variable has been assigned.\n",
      "  sns.histplot(data = df11[df11['final_result'] == 'Withdrawn'], x = 'mean_score', palette = pal, ax = ax[1, 1]).set_title('Withdrawn')\n",
      "C:\\Users\\jacob\\anaconda3\\Lib\\site-packages\\seaborn\\_oldcore.py:1119: FutureWarning: use_inf_as_na option is deprecated and will be removed in a future version. Convert inf values to NaN before operating instead.\n",
      "  with pd.option_context('mode.use_inf_as_na', True):\n"
     ]
    },
    {
     "data": {
      "image/png": "[encoded data removed]",
      "text/plain": [
       "<Figure size 1200x1000 with 4 Axes>"
      ]
     },
     "metadata": {},
     "output_type": "display_data"
    }
   ],
   "source": [
    "fig, ax = plt.subplots(2, 2, figsize = (12, 10))\n",
    "sns.histplot(data = df11[df11['final_result'] == 'Distinction'], x = 'mean_score', palette = pal, ax = ax[0, 0]).set_title('Distinction')\n",
    "sns.histplot(data = df11[df11['final_result'] == 'Pass'], x = 'mean_score', palette = pal, ax = ax[0, 1]).set_title('Pass')\n",
    "sns.histplot(data = df11[df11['final_result'] == 'Fail'], x = 'mean_score', palette = pal, ax = ax[1, 0]).set_title('Fail')\n",
    "sns.histplot(data = df11[df11['final_result'] == 'Withdrawn'], x = 'mean_score', palette = pal, ax = ax[1, 1]).set_title('Withdrawn')\n",
    "plt.tight_layout()\n",
    "plt.show()"
   ]
  },
  {
   "cell_type": "code",
   "execution_count": 64,
   "id": "a7ab144d-905d-4565-b061-c54d3d14e00d",
   "metadata": {},
   "outputs": [
    {
     "name": "stdout",
     "output_type": "stream",
     "text": [
      "F-Stat: 8332.648681853558\n",
      "P-Value: 0.0\n"
     ]
    }
   ],
   "source": [
    "dist_scr = np.array(df11[df11['final_result'] == 'Distinction']['mean_score'])\n",
    "pass_scr = np.array(df11[df11['final_result'] == 'Pass']['mean_score'])\n",
    "fail_scr = np.array(df11[df11['final_result'] == 'Fail']['mean_score'])\n",
    "with_scr = np.array(df11[df11['final_result'] == 'Withdrawn']['mean_score'])\n",
    "\n",
    "f_stat_scr, p_scr = stats.f_oneway(dist_scr, pass_scr, fail_scr, with_scr)\n",
    "print(f'F-Stat: {f_stat_scr}')\n",
    "print(f'P-Value: {p_scr}')"
   ]
  },
  {
   "cell_type": "code",
   "execution_count": 47,
   "id": "af2ba8e3-bd95-46ef-9fb9-d0a078a7b1cc",
   "metadata": {},
   "outputs": [
    {
     "data": {
      "text/html": [
       "<table class=\"simpletable\">\n",
       "<caption>Test Multiple Comparison ttest_ind \n",
       "FWER=0.05 method=bonf\n",
       "alphacSidak=0.01, alphacBonf=0.008</caption>\n",
       "<tr>\n",
       "    <th>group1</th>     <th>group2</th>     <th>stat</th>    <th>pval</th>  <th>pval_corr</th> <th>reject</th>\n",
       "</tr>\n",
       "<tr>\n",
       "  <td>Distinction</td>   <td>Fail</td>    <td>137.4976</td>   <td>0.0</td>     <td>0.0</td>     <td>True</td> \n",
       "</tr>\n",
       "<tr>\n",
       "  <td>Distinction</td>   <td>Pass</td>     <td>98.4631</td>   <td>0.0</td>     <td>0.0</td>     <td>True</td> \n",
       "</tr>\n",
       "<tr>\n",
       "  <td>Distinction</td> <td>Withdrawn</td> <td>115.9946</td>   <td>0.0</td>     <td>0.0</td>     <td>True</td> \n",
       "</tr>\n",
       "<tr>\n",
       "     <td>Fail</td>       <td>Pass</td>    <td>-94.4053</td>   <td>0.0</td>     <td>0.0</td>     <td>True</td> \n",
       "</tr>\n",
       "<tr>\n",
       "     <td>Fail</td>     <td>Withdrawn</td>  <td>-3.8298</td> <td>0.0001</td>  <td>0.0008</td>    <td>True</td> \n",
       "</tr>\n",
       "<tr>\n",
       "     <td>Pass</td>     <td>Withdrawn</td>  <td>75.4599</td>   <td>0.0</td>     <td>0.0</td>     <td>True</td> \n",
       "</tr>\n",
       "</table>"
      ],
      "text/plain": [
       "<class 'statsmodels.iolib.table.SimpleTable'>"
      ]
     },
     "execution_count": 47,
     "metadata": {},
     "output_type": "execute_result"
    }
   ],
   "source": [
    "comp1 = mc.MultiComparison(df11['mean_score'], df11['final_result'])\n",
    "tbl_scr, a1_scr, a2_scr = comp1.allpairtest(stats.ttest_ind, alpha = 0.05, method = 'bonf')\n",
    "tbl_scr"
   ]
  },
  {
   "cell_type": "code",
   "execution_count": null,
   "id": "dfe6393c-27e1-4dcc-9f1b-1a83fbbff7b7",
   "metadata": {},
   "outputs": [],
   "source": [
    "dist_mean = df4[df4['final_result'] == 'Distinction']['score'].mean()\n",
    "dist_std = df4[df4['final_result'] == 'Distinction']['score'].std()\n",
    "pass_mean = df4[df4['final_result'] == 'Pass']['score'].mean()\n",
    "pass_std = df4[df4['final_result'] == 'Pass']['score'].std()\n",
    "fail_mean = df4[df4['final_result'] == 'Fail']['score'].mean()\n",
    "fail_std = df4[df4['final_result'] == 'Fail']['score'].std()\n",
    "with_mean = df4[df4['final_result'] == 'Withdrawn']['score'].mean()\n",
    "with_std = df4[df4['final_result'] == 'Withdrawn']['score'].std()\n",
    "\n",
    "print(f'Distinction: {dist_mean} +- {dist_std}')\n",
    "print(f'Pass: {pass_mean} +- {pass_std}')\n",
    "print(f'Fail: {fail_mean} +- {fail_std}')\n",
    "print(f'Withdrawn: {with_mean} +- {with_std}')"
   ]
  },
  {
   "cell_type": "markdown",
   "id": "ab24e13d-62c3-446d-bf29-f4aa97cee3af",
   "metadata": {},
   "source": [
    "Notably, the scores between the four final results have roughly the same mean. Because this is initial exploratory analysis, the data has not yet been normalized so the t-test results will be reassessed after modeling. The key factor that may distinguish the four groups is the sample sizes of each group that impact the variances. These differences were detected by the one-way ANOVA so the machine learning model should be able to detect these distinctions."
   ]
  },
  {
   "cell_type": "code",
   "execution_count": 50,
   "id": "67145333-9e08-4cb1-82e8-7b27d7ce1799",
   "metadata": {},
   "outputs": [
    {
     "name": "stderr",
     "output_type": "stream",
     "text": [
      "C:\\Users\\jacob\\AppData\\Local\\Temp\\ipykernel_13936\\2412275834.py:2: UserWarning: Ignoring `palette` because no `hue` variable has been assigned.\n",
      "  sns.histplot(data = df11[df11['final_result'] == 'Distinction'], x = 'mean_active', palette = pal, ax = ax[0, 0]).set_title('Distinction')\n",
      "C:\\Users\\jacob\\anaconda3\\Lib\\site-packages\\seaborn\\_oldcore.py:1119: FutureWarning: use_inf_as_na option is deprecated and will be removed in a future version. Convert inf values to NaN before operating instead.\n",
      "  with pd.option_context('mode.use_inf_as_na', True):\n",
      "C:\\Users\\jacob\\AppData\\Local\\Temp\\ipykernel_13936\\2412275834.py:3: UserWarning: Ignoring `palette` because no `hue` variable has been assigned.\n",
      "  sns.histplot(data = df11[df11['final_result'] == 'Pass'], x = 'mean_active', palette = pal, ax = ax[0, 1]).set_title('Pass')\n",
      "C:\\Users\\jacob\\anaconda3\\Lib\\site-packages\\seaborn\\_oldcore.py:1119: FutureWarning: use_inf_as_na option is deprecated and will be removed in a future version. Convert inf values to NaN before operating instead.\n",
      "  with pd.option_context('mode.use_inf_as_na', True):\n",
      "C:\\Users\\jacob\\AppData\\Local\\Temp\\ipykernel_13936\\2412275834.py:4: UserWarning: Ignoring `palette` because no `hue` variable has been assigned.\n",
      "  sns.histplot(data = df11[df11['final_result'] == 'Fail'], x = 'mean_active', palette = pal, ax = ax[1, 0]).set_title('Fail')\n",
      "C:\\Users\\jacob\\anaconda3\\Lib\\site-packages\\seaborn\\_oldcore.py:1119: FutureWarning: use_inf_as_na option is deprecated and will be removed in a future version. Convert inf values to NaN before operating instead.\n",
      "  with pd.option_context('mode.use_inf_as_na', True):\n",
      "C:\\Users\\jacob\\AppData\\Local\\Temp\\ipykernel_13936\\2412275834.py:5: UserWarning: Ignoring `palette` because no `hue` variable has been assigned.\n",
      "  sns.histplot(data = df11[df11['final_result'] == 'Withdrawn'], x = 'mean_active', palette = pal, ax = ax[1, 1]).set_title('Withdrawn')\n",
      "C:\\Users\\jacob\\anaconda3\\Lib\\site-packages\\seaborn\\_oldcore.py:1119: FutureWarning: use_inf_as_na option is deprecated and will be removed in a future version. Convert inf values to NaN before operating instead.\n",
      "  with pd.option_context('mode.use_inf_as_na', True):\n"
     ]
    },
    {
     "data": {
      "image/png": "[encoded data removed]",
      "text/plain": [
       "<Figure size 1200x1000 with 4 Axes>"
      ]
     },
     "metadata": {},
     "output_type": "display_data"
    }
   ],
   "source": [
    "fig, ax = plt.subplots(2, 2, figsize = (12, 10))\n",
    "sns.histplot(data = df11[df11['final_result'] == 'Distinction'], x = 'mean_active', palette = pal, ax = ax[0, 0]).set_title('Distinction')\n",
    "sns.histplot(data = df11[df11['final_result'] == 'Pass'], x = 'mean_active', palette = pal, ax = ax[0, 1]).set_title('Pass')\n",
    "sns.histplot(data = df11[df11['final_result'] == 'Fail'], x = 'mean_active', palette = pal, ax = ax[1, 0]).set_title('Fail')\n",
    "sns.histplot(data = df11[df11['final_result'] == 'Withdrawn'], x = 'mean_active', palette = pal, ax = ax[1, 1]).set_title('Withdrawn')\n",
    "plt.tight_layout()\n",
    "plt.show()"
   ]
  },
  {
   "cell_type": "code",
   "execution_count": 60,
   "id": "6ee25f5a-fd20-4025-9c04-47db1cb42fa1",
   "metadata": {},
   "outputs": [
    {
     "name": "stdout",
     "output_type": "stream",
     "text": [
      "F-Stat: 2.2564919839436115\n",
      "P-Value: 0.0796275720078633\n"
     ]
    }
   ],
   "source": [
    "dist_act = np.array(df11[df11['final_result'] == 'Distinction']['mean_active'])\n",
    "pass_act = np.array(df11[df11['final_result'] == 'Pass']['mean_active'])\n",
    "fail_act = np.array(df11[df11['final_result'] == 'Fail']['mean_active'])\n",
    "with_act = np.array(df11[df11['final_result'] == 'Withdrawn']['mean_active'])\n",
    "\n",
    "f_stat_act, p_act = stats.f_oneway(dist_act, pass_act, fail_act, with_act)\n",
    "print(f'F-Stat: {f_stat_act}')\n",
    "print(f'P-Value: {p_act}')"
   ]
  },
  {
   "cell_type": "code",
   "execution_count": 52,
   "id": "60bcd6f5-d067-4d1c-bf61-c45783f449d0",
   "metadata": {},
   "outputs": [
    {
     "data": {
      "text/html": [
       "<table class=\"simpletable\">\n",
       "<caption>Test Multiple Comparison ttest_ind \n",
       "FWER=0.05 method=bonf\n",
       "alphacSidak=0.01, alphacBonf=0.008</caption>\n",
       "<tr>\n",
       "    <th>group1</th>     <th>group2</th>    <th>stat</th>    <th>pval</th>  <th>pval_corr</th> <th>reject</th>\n",
       "</tr>\n",
       "<tr>\n",
       "  <td>Distinction</td>   <td>Fail</td>    <td>-0.4756</td> <td>0.6344</td>    <td>1.0</td>     <td>False</td>\n",
       "</tr>\n",
       "<tr>\n",
       "  <td>Distinction</td>   <td>Pass</td>    <td>0.1133</td>  <td>0.9098</td>    <td>1.0</td>     <td>False</td>\n",
       "</tr>\n",
       "<tr>\n",
       "  <td>Distinction</td> <td>Withdrawn</td> <td>1.9624</td>  <td>0.0497</td>  <td>0.2984</td>    <td>False</td>\n",
       "</tr>\n",
       "<tr>\n",
       "     <td>Fail</td>       <td>Pass</td>    <td>0.7552</td>  <td>0.4502</td>    <td>1.0</td>     <td>False</td>\n",
       "</tr>\n",
       "<tr>\n",
       "     <td>Fail</td>     <td>Withdrawn</td> <td>2.5189</td>  <td>0.0118</td>  <td>0.0707</td>    <td>False</td>\n",
       "</tr>\n",
       "<tr>\n",
       "     <td>Pass</td>     <td>Withdrawn</td> <td>2.2188</td>  <td>0.0265</td>   <td>0.159</td>    <td>False</td>\n",
       "</tr>\n",
       "</table>"
      ],
      "text/plain": [
       "<class 'statsmodels.iolib.table.SimpleTable'>"
      ]
     },
     "execution_count": 52,
     "metadata": {},
     "output_type": "execute_result"
    }
   ],
   "source": [
    "comp2 = mc.MultiComparison(df11['mean_active'], df11['final_result'])\n",
    "tbl_act, a1_act, a2_act = comp2.allpairtest(stats.ttest_ind, alpha = 0.05, method = 'bonf')\n",
    "tbl_act"
   ]
  }
 ],
 "metadata": {
  "kernelspec": {
   "display_name": "Python 3 (ipykernel)",
   "language": "python",
   "name": "python3"
  },
  "language_info": {
   "codemirror_mode": {
    "name": "ipython",
    "version": 3
   },
   "file_extension": ".py",
   "mimetype": "text/x-python",
   "name": "python",
   "nbconvert_exporter": "python",
   "pygments_lexer": "ipython3",
   "version": "3.11.9"
  }
 },
 "nbformat": 4,
 "nbformat_minor": 5
}
